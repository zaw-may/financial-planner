{
 "cells": [
  {
   "cell_type": "code",
   "execution_count": 1,
   "metadata": {},
   "outputs": [],
   "source": [
    "import pandas as pd\n",
    "import numpy as np\n",
    "import alpaca_trade_api as tradeapi\n",
    "import requests\n",
    "import json"
   ]
  },
  {
   "cell_type": "code",
   "execution_count": 2,
   "metadata": {},
   "outputs": [],
   "source": [
    "import sys\n",
    "sys.path.append('C:\\\\Users\\\\DELL\\\\Downloads\\\\financial-planner')\n",
    "\n",
    "from tools.scraper import scraper"
   ]
  },
  {
   "cell_type": "code",
   "execution_count": 3,
   "metadata": {},
   "outputs": [
    {
     "name": "stdout",
     "output_type": "stream",
     "text": [
      "Interests data successfully collected!\n",
      "[0.0517     0.0487     0.0465     0.04585    0.0452     0.04515\n",
      " 0.0451     0.04506667 0.04503333 0.045      0.04524    0.04548\n",
      " 0.04572    0.04596    0.0462     0.04644    0.04668    0.04692\n",
      " 0.04716    0.0474     0.0473     0.0472     0.0471     0.047\n",
      " 0.0469     0.0468     0.0467     0.0466     0.0465     0.0464\n",
      " 0.0464     0.0464     0.0464     0.0464     0.0464     0.0464\n",
      " 0.0464     0.0464     0.0464     0.0464     0.0464     0.0464\n",
      " 0.0464     0.0464     0.0464     0.0464     0.0464     0.0464\n",
      " 0.0464     0.0464     0.0464     0.0464     0.0464     0.0464\n",
      " 0.0464     0.0464     0.0464     0.0464     0.0464     0.0464    ]\n"
     ]
    }
   ],
   "source": [
    "chromdriver_path = 'D:\\\\chromedriver.exe'\n",
    "resource_data = scraper(chromdriver_path)"
   ]
  },
  {
   "cell_type": "code",
   "execution_count": 5,
   "metadata": {},
   "outputs": [],
   "source": [
    "class Sub_FinancialPlanning():\n",
    "        \n",
    "        def __init__(self, annual_income, required_percentage, required_years, inflation_rate, expenses, savings, stock_val, resource_data = resource_data):\n",
    "                self.current_annual_income  = annual_income\n",
    "                self.current_required_percentage = required_percentage\n",
    "                self.required_years = required_years\n",
    "                self.resource_data = resource_data\n",
    "                self.inflation_rate = inflation_rate\n",
    "                self.expenses = expenses\n",
    "                self.savings = savings\n",
    "                self.stock_val = stock_val\n",
    "\n",
    "        def inflation_factor(self):\n",
    "                infl_factor = np.cumprod(1  + self.inflation_rate)\n",
    "                return infl_factor\n",
    "        \n",
    "        def discount_factor(self):\n",
    "                nyears = self.required_years\n",
    "                term_data = self.resource_data[:nyears]\n",
    "                discount_f = [1/(1+term_data[i])**(i+1) for i in range(nyears)]\n",
    "                return discount_f\n",
    "\n",
    "        def minimum_insurance_amount(self):\n",
    "                current_min_required_amount = self.current_annual_income * self.current_required_percentage\n",
    "                future_min_required_cashflow = current_min_required_amount * self.inflation_factor()\n",
    "                present_value = sum(future_min_required_cashflow * self.discount_factor())\n",
    "                min_required_amount = present_value + self.expenses\n",
    "                print('The minimum amount of insurance needed in order to fit the minimum needs of dependents $%.2f. \\n' % min_required_amount)\n",
    "                return min_required_amount\n",
    "\n",
    "        def keep_current_living_standard_amount(self):\n",
    "                required_cashflow = self.current_annual_income * self.inflation_factor()\n",
    "                present_value = sum(required_cashflow * self.discount_factor())\n",
    "                required_amount = present_value + self.expenses\n",
    "                print(f\"\\nThe amount of insurance needed in order to keep current living standard plus some expenses is $%.2f. \\n\" % required_amount )\n",
    "                return required_amount\n",
    "        \n",
    "        def financial_health(self):\n",
    "                savings_ratio = self.savings / self.current_annual_income\n",
    "                expenses_rate = self.expenses / self.current_annual_income\n",
    "                if (savings_ratio > 0.5):\n",
    "                        print(\"Congratulation! You have a good Saving Ratio. Please make sure to sustain this in future as well.\")\n",
    "                elif (savings_ratio == 0.5):\n",
    "                        print(\"Saving regularly is key to building financial security and achieving your long-term goals. Let's work together to boost your saving ratio and plan for a brighter future.\")\n",
    "                else:\n",
    "                        print(\"Reminder: Your saving ratio has fallen below the recommended level. Take a moment to review your recent spending and savings patterns to identify areas for improvement.\")\n",
    "\n",
    "        def btc_tracking(self):\n",
    "                btc_url = \"https://api.alternative.me/v2/ticker/Bitcoin/?convert=USD\"\n",
    "                btc_url = btc_url + \"?format=json\"\n",
    "                btc_price = requests.get(btc_url)\n",
    "                btc_response = btc_price.content\n",
    "                btc_data = btc_price.json()\n",
    "                btc_price = btc_data['data']['1']['quotes']['USD']['price']\n",
    "                total_btc_value = self.stock_val * btc_price\n",
    "                print(f\"The current value of BTC {self.stock_val} is ${total_btc_value:0.2f}.\\n\")\n",
    "\n",
    "        def result_display(self):\n",
    "                self.keep_current_living_standard_amount()"
   ]
  },
  {
   "cell_type": "code",
   "execution_count": 6,
   "metadata": {},
   "outputs": [
    {
     "name": "stdout",
     "output_type": "stream",
     "text": [
      "\n",
      "The amount of insurance needed in order to keep current living standard plus some expenses is $85490.38. \n",
      "\n",
      "The minimum amount of insurance needed in order to fit the minimum needs of dependents $45245.19. \n",
      "\n",
      "The current value of BTC 1.5 is $91231.50.\n",
      "\n",
      "Reminder: Your saving ratio has fallen below the recommended level. Take a moment to review your recent spending and savings patterns to identify areas for improvement.\n"
     ]
    }
   ],
   "source": [
    "if __name__ == '__main__':\n",
    "    FP = Sub_FinancialPlanning(10000, 0.5, 10, 0.02, 5000, 300, 1.5)\n",
    "    FP.keep_current_living_standard_amount()    \n",
    "    FP.minimum_insurance_amount()\n",
    "    FP.btc_tracking()\n",
    "    FP.financial_health()"
   ]
  }
 ],
 "metadata": {
  "kernelspec": {
   "display_name": "Python 3",
   "language": "python",
   "name": "python3"
  },
  "language_info": {
   "codemirror_mode": {
    "name": "ipython",
    "version": 3
   },
   "file_extension": ".py",
   "mimetype": "text/x-python",
   "name": "python",
   "nbconvert_exporter": "python",
   "pygments_lexer": "ipython3",
   "version": "3.11.0"
  }
 },
 "nbformat": 4,
 "nbformat_minor": 2
}
